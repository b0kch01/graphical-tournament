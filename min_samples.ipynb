{
 "cells": [
  {
   "cell_type": "code",
   "execution_count": 1,
   "metadata": {},
   "outputs": [
    {
     "data": {
      "text/plain": [
       "<torch._C.Generator at 0x133e97970>"
      ]
     },
     "execution_count": 1,
     "metadata": {},
     "output_type": "execute_result"
    }
   ],
   "source": [
    "import matplotlib.pyplot as plt\n",
    "import pyGMs as gm\n",
    "import numpy as np\n",
    "import torch\n",
    "import pyro\n",
    "import pyro.infer\n",
    "import pyro.optim\n",
    "import pyro.distributions as dist\n",
    "import pyro.poutine as poutine\n",
    "\n",
    "import pandas as pd\n",
    "\n",
    "seed = 123\n",
    "pyro.set_rng_seed(seed)\n",
    "np.random.seed(seed)\n",
    "torch.manual_seed(seed)"
   ]
  },
  {
   "cell_type": "code",
   "execution_count": 8,
   "metadata": {},
   "outputs": [],
   "source": [
    "golden_sample = torch.load('mcmc_samples_20000.pt')\n",
    "dataset = torch.load(\"dataset.pt\")\n",
    "teams = torch.load(\"teams.pt\")\n",
    "teams_number = list(range(len(teams)))"
   ]
  },
  {
   "cell_type": "code",
   "execution_count": 21,
   "metadata": {},
   "outputs": [],
   "source": [
    "def construct_ranking(samples: dict, teams) -> dict:\n",
    "    return {\n",
    "        team: rank for rank, team in enumerate(\n",
    "            sorted(teams,\n",
    "                   key=lambda i: samples[f\"X{i}\"].mean(), reverse=True)\n",
    "        )\n",
    "    }"
   ]
  },
  {
   "cell_type": "code",
   "execution_count": 48,
   "metadata": {},
   "outputs": [],
   "source": [
    "def model(matches, n_teams):\n",
    "    X = [pyro.sample(f\"X{i}\", dist.Normal(0, 2)) for i in range(n_teams)]\n",
    "\n",
    "    for i, m in enumerate(matches):\n",
    "        pyro.sample(f\"w{i}\",\n",
    "                    dist.Bernoulli(logits=X[m[0]]-X[m[1]]),\n",
    "                    obs=torch.tensor(1.))"
   ]
  },
  {
   "cell_type": "code",
   "execution_count": 61,
   "metadata": {},
   "outputs": [
    {
     "name": "stderr",
     "output_type": "stream",
     "text": [
      "Sample: 100%|██████████| 1/1 [00:01,  1.41s/it, step size=5.00e-01, acc. prob=1.000]\n",
      "Sample: 100%|██████████| 6/6 [00:04,  1.29it/s, step size=5.00e-01, acc. prob=0.616]\n",
      "Sample: 100%|██████████| 12/12 [00:02,  5.68it/s, step size=7.19e+00, acc. prob=0.000]\n",
      "Sample: 100%|██████████| 60/60 [01:34,  1.57s/it, step size=1.91e-01, acc. prob=0.888]\n",
      "Sample:  90%|█████████ | 108/120 [01:29,  1.35it/s, step size=6.68e-01, acc. prob=0.470]"
     ]
    }
   ],
   "source": [
    "mcmc_runs = []\n",
    "\n",
    "for n in [1, 5, 10, 50, 100, 200]:\n",
    "    nuts_kernel = pyro.infer.NUTS(model, jit_compile=False)\n",
    "    mcmc = pyro.infer.MCMC(nuts_kernel, num_samples=n,\n",
    "                           warmup_steps=n//5, num_chains=1)\n",
    "    mcmc.run(dataset, len(teams))\n",
    "\n",
    "    mcmc_runs.append((n, mcmc.get_samples()))"
   ]
  },
  {
   "cell_type": "code",
   "execution_count": null,
   "metadata": {},
   "outputs": [],
   "source": [
    "golden_ranking = construct_ranking(golden_sample, teams_number)\n",
    "\n",
    "X = [golden_ranking[i] for i in teams_number]\n",
    "\n",
    "# plot results in a subplot grid\n",
    "fig, axs = plt.subplots(2, 3, figsize=(15, 10))\n",
    "\n",
    "for i, (n, samples) in enumerate(mcmc_runs):\n",
    "    ranking = construct_ranking(samples, teams_number)\n",
    "    Y = [ranking[i] for i in teams_number]\n",
    "\n",
    "    ax = axs[i//3, i % 3]\n",
    "    ax.plot(X, Y, 'o', alpha=0.5)\n",
    "    ax.set_title(f\"n={n}\")"
   ]
  },
  {
   "cell_type": "code",
   "execution_count": null,
   "metadata": {},
   "outputs": [],
   "source": []
  }
 ],
 "metadata": {
  "kernelspec": {
   "display_name": "latest",
   "language": "python",
   "name": "python3"
  },
  "language_info": {
   "codemirror_mode": {
    "name": "ipython",
    "version": 3
   },
   "file_extension": ".py",
   "mimetype": "text/x-python",
   "name": "python",
   "nbconvert_exporter": "python",
   "pygments_lexer": "ipython3",
   "version": "3.11.5"
  }
 },
 "nbformat": 4,
 "nbformat_minor": 2
}

{
 "cells": [
  {
   "cell_type": "code",
   "execution_count": 3,
   "metadata": {},
   "outputs": [
    {
     "data": {
      "text/plain": [
       "<torch._C.Generator at 0x12e32dfd0>"
      ]
     },
     "execution_count": 3,
     "metadata": {},
     "output_type": "execute_result"
    }
   ],
   "source": [
    "import matplotlib.pyplot as plt\n",
    "import pyGMs as gm\n",
    "import numpy as np\n",
    "import torch\n",
    "import pyro\n",
    "import pyro.infer\n",
    "import pyro.optim\n",
    "import pyro.distributions as dist\n",
    "import pyro.poutine as poutine\n",
    "\n",
    "import pandas as pd\n",
    "\n",
    "seed = 123\n",
    "pyro.set_rng_seed(seed)\n",
    "np.random.seed(seed)\n",
    "torch.manual_seed(seed)"
   ]
  },
  {
   "cell_type": "code",
   "execution_count": 4,
   "metadata": {},
   "outputs": [],
   "source": [
    "data = pd.read_csv('data.csv')\n",
    "\n",
    "data = data[[\"winner\", \"loser\"]]\n",
    "data[\"win\"] = 1.0\n",
    "\n",
    "dataset = list(data.itertuples(index=False, name=None))\n",
    "\n",
    "teams = set()\n",
    "for match in dataset:\n",
    "    teams.add(match[0])\n",
    "    teams.add(match[1])\n",
    "\n",
    "teams = {v: i for i, v in enumerate(list(teams))}\n",
    "dataset = [(teams[winner], teams[loser], win)\n",
    "           for winner, loser, win in dataset]"
   ]
  },
  {
   "cell_type": "code",
   "execution_count": 6,
   "metadata": {},
   "outputs": [],
   "source": [
    "def model(matches, n_teams):\n",
    "    X = [pyro.sample(f\"X{i}\", dist.Normal(0, 1)) for i in range(n_teams)]\n",
    "\n",
    "    for i, m in enumerate(matches):\n",
    "        pyro.sample(f\"w{i}\",\n",
    "                    dist.Bernoulli(logits=X[m[0]]-X[m[1]]),\n",
    "                    obs=torch.tensor(1.))"
   ]
  },
  {
   "cell_type": "code",
   "execution_count": null,
   "metadata": {},
   "outputs": [],
   "source": [
    "nuts_kernel = pyro.infer.NUTS(model, jit_compile=False)\n",
    "mcmc = pyro.infer.MCMC(nuts_kernel, num_samples=50,\n",
    "                       warmup_steps=10, num_chains=1)\n",
    "mcmc.run(dataset, len(teams))"
   ]
  }
 ],
 "metadata": {
  "kernelspec": {
   "display_name": "latest",
   "language": "python",
   "name": "python3"
  },
  "language_info": {
   "codemirror_mode": {
    "name": "ipython",
    "version": 3
   },
   "file_extension": ".py",
   "mimetype": "text/x-python",
   "name": "python",
   "nbconvert_exporter": "python",
   "pygments_lexer": "ipython3",
   "version": "3.11.5"
  }
 },
 "nbformat": 4,
 "nbformat_minor": 2
}
